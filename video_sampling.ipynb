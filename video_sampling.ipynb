{
 "cells": [
  {
   "cell_type": "code",
   "execution_count": 4,
   "id": "c4148ea8-8621-46db-b6e1-6993f77811c1",
   "metadata": {},
   "outputs": [],
   "source": [
    "import cv2\n",
    "import os\n",
    "import re"
   ]
  },
  {
   "cell_type": "code",
   "execution_count": null,
   "id": "bda3ea06-0d2b-41dc-82c2-6731c7d35274",
   "metadata": {},
   "outputs": [],
   "source": [
    "files_list = [f for f in os.listdir(\"videos/1/\") if os.path.isfile(f\"videos/1/{f}\")]\n",
    "print(files_list)"
   ]
  },
  {
   "cell_type": "code",
   "execution_count": 12,
   "id": "9c959274-5a43-464a-b2eb-a487abd1a4f8",
   "metadata": {},
   "outputs": [],
   "source": [
    "for file in files_list:\n",
    "    cap= cv2.VideoCapture(f\"videos/1/{file}\")\n",
    "    i=0\n",
    "    filename_index = 10\n",
    "    while(cap.isOpened()):\n",
    "        ret, frame = cap.read()\n",
    "        if ret == False:\n",
    "            break\n",
    "        if i % 20 == 0: # save every 20th frame\n",
    "            filename = re.sub(\".mp4\", \"\", file)\n",
    "            cv2.imwrite(f\"photos/video_capture/{filename}_{str(filename_index)}.jpg\",frame)\n",
    "            filename_index += 1\n",
    "        i+=1\n",
    "    \n",
    "    cap.release()\n",
    "cv2.destroyAllWindows()"
   ]
  },
  {
   "cell_type": "code",
   "execution_count": 7,
   "id": "e5cc6082",
   "metadata": {},
   "outputs": [
    {
     "name": "stdout",
     "output_type": "stream",
     "text": [
      "['Alphabet_A.mp4', 'Alphabet_B.mp4', 'Alphabet_C.mp4', 'Alphabet_D.mp4', 'Alphabet_E.mp4', 'Alphabet_F.mp4', 'Alphabet_G.mp4', 'Alphabet_H.mp4', 'Alphabet_S.mp4', 'Alphabet_T.mp4', 'Alphabet_U.mp4', 'Alphabet_v.mp4', 'Alphabet_w.mp4', 'Alphabet_x.mp4', 'Alphabet_y.mp4', 'Alphabet_z.mp4', 'Bullseye.mp4', 'down_arrow.mp4', 'eight.mp4', 'five.mp4', 'four.mp4', 'left_arrow.mp4', 'nine.mp4', 'one.mp4', 'right_arrow.mp4', 'seven.mp4', 'six.mp4', 'Stop.mp4', 'three.mp4', 'two.mp4', 'up_arrow.mp4']\n"
     ]
    }
   ],
   "source": [
    "files_list = [f for f in os.listdir(\"videos/2/\") if os.path.isfile(f\"videos/2/{f}\")]\n",
    "print(files_list)"
   ]
  },
  {
   "cell_type": "code",
   "execution_count": 8,
   "id": "206eb46d",
   "metadata": {},
   "outputs": [],
   "source": [
    "for file in files_list:\n",
    "    cap= cv2.VideoCapture(f\"videos/2/{file}\")\n",
    "    i=0\n",
    "    filename_index = 15\n",
    "    while(cap.isOpened()):\n",
    "        ret, frame = cap.read()\n",
    "        if ret == False:\n",
    "            break\n",
    "        if i % 20 == 0: # save every 20th frame\n",
    "            filename = re.sub(\".mp4\", \"\", file)\n",
    "            cv2.imwrite(f\"photos/video_capture/{filename}_{str(filename_index)}.jpg\",frame)\n",
    "            filename_index += 1\n",
    "        i+=1\n",
    "    \n",
    "    cap.release()\n",
    "cv2.destroyAllWindows()"
   ]
  },
  {
   "cell_type": "code",
   "execution_count": 9,
   "id": "6d3efda8",
   "metadata": {},
   "outputs": [
    {
     "name": "stdout",
     "output_type": "stream",
     "text": [
      "['Alphabet_A.mp4', 'Alphabet_B.mp4', 'Alphabet_C.mp4', 'Alphabet_D.mp4', 'Alphabet_E.mp4', 'Alphabet_F.mp4', 'Alphabet_G.mp4', 'Alphabet_H.mp4', 'Alphabet_S.mp4', 'Alphabet_T.mp4', 'Alphabet_U.mp4', 'Alphabet_v.mp4', 'Alphabet_w.mp4', 'Alphabet_x.mp4', 'Alphabet_y.mp4', 'Alphabet_z.mp4', 'Bullseye.mp4', 'down_arrow.mp4', 'eight.mp4', 'five.mp4', 'four.mp4', 'left_arrow.mp4', 'nine.mp4', 'one.mp4', 'right_arrow.mp4', 'seven.mp4', 'six.mp4', 'Stop.mp4', 'three.mp4', 'two.mp4', 'up_arrow.mp4']\n"
     ]
    }
   ],
   "source": [
    "files_list = [f for f in os.listdir(\"videos/3/\") if os.path.isfile(f\"videos/3/{f}\")]\n",
    "print(files_list)"
   ]
  },
  {
   "cell_type": "code",
   "execution_count": 10,
   "id": "1f796c23",
   "metadata": {},
   "outputs": [],
   "source": [
    "for file in files_list:\n",
    "    cap= cv2.VideoCapture(f\"videos/3/{file}\")\n",
    "    i=0\n",
    "    filename_index = 20\n",
    "    while(cap.isOpened()):\n",
    "        ret, frame = cap.read()\n",
    "        if ret == False:\n",
    "            break\n",
    "        if i % 20 == 0: # save every 20th frame\n",
    "            filename = re.sub(\".mp4\", \"\", file)\n",
    "            cv2.imwrite(f\"photos/video_capture/{filename}_{str(filename_index)}.jpg\",frame)\n",
    "            filename_index += 1\n",
    "        i+=1\n",
    "    \n",
    "    cap.release()\n",
    "cv2.destroyAllWindows()"
   ]
  },
  {
   "cell_type": "code",
   "execution_count": 11,
   "id": "7fd943da",
   "metadata": {},
   "outputs": [
    {
     "name": "stdout",
     "output_type": "stream",
     "text": [
      "['Alphabet_A.mp4', 'Alphabet_B.mp4', 'Alphabet_C.mp4', 'Alphabet_D.mp4', 'Alphabet_E.mp4', 'Alphabet_F.mp4', 'Alphabet_G.mp4', 'Alphabet_H.mp4', 'Alphabet_S.mp4', 'Alphabet_T.mp4', 'Alphabet_U.mp4', 'Alphabet_v.mp4', 'Alphabet_w.mp4', 'Alphabet_x.mp4', 'Alphabet_y.mp4', 'Alphabet_z.mp4', 'Bullseye.mp4', 'down_arrow.mp4', 'eight.mp4', 'five.mp4', 'four.mp4', 'left_arrow.mp4', 'nine.mp4', 'one.mp4', 'right_arrow.mp4', 'seven.mp4', 'six.mp4', 'Stop.mp4', 'three.mp4', 'two.mp4', 'up_arrow.mp4']\n"
     ]
    }
   ],
   "source": [
    "files_list = [f for f in os.listdir(\"videos/4/\") if os.path.isfile(f\"videos/4/{f}\")]\n",
    "print(files_list)"
   ]
  },
  {
   "cell_type": "code",
   "execution_count": 12,
   "id": "a412792e",
   "metadata": {},
   "outputs": [],
   "source": [
    "for file in files_list:\n",
    "    cap= cv2.VideoCapture(f\"videos/4/{file}\")\n",
    "    i=0\n",
    "    filename_index = 25\n",
    "    while(cap.isOpened()):\n",
    "        ret, frame = cap.read()\n",
    "        if ret == False:\n",
    "            break\n",
    "        if i % 20 == 0: # save every 20th frame\n",
    "            filename = re.sub(\".mp4\", \"\", file)\n",
    "            cv2.imwrite(f\"photos/video_capture/{filename}_{str(filename_index)}.jpg\",frame)\n",
    "            filename_index += 1\n",
    "        i+=1\n",
    "    \n",
    "    cap.release()\n",
    "cv2.destroyAllWindows()"
   ]
  },
  {
   "cell_type": "code",
   "execution_count": 14,
   "id": "a821ccd7",
   "metadata": {},
   "outputs": [],
   "source": [
    "file = \"seven.mp4\"\n",
    "cap= cv2.VideoCapture(f\"videos/4/{file}\")\n",
    "i=0\n",
    "filename_index = 25\n",
    "while(cap.isOpened()):\n",
    "    ret, frame = cap.read()\n",
    "    if ret == False:\n",
    "        break\n",
    "    if i % 15 == 0: # save every 20th frame\n",
    "        filename = re.sub(\".mp4\", \"\", file)\n",
    "        cv2.imwrite(f\"photos/video_capture/test/{filename}_{str(filename_index)}.jpg\",frame)\n",
    "        filename_index += 1\n",
    "    i+=1\n",
    "\n",
    "cap.release()\n",
    "cv2.destroyAllWindows()"
   ]
  },
  {
   "cell_type": "code",
   "execution_count": null,
   "id": "e57529a8-fcba-4b79-aca7-388edb25295b",
   "metadata": {},
   "outputs": [],
   "source": [
    "files_list = [f for f in os.listdir(\"photos/video_capture/\") if os.path.isfile(f\"photos/video_capture/{f}\")]\n",
    "print(files_list)"
   ]
  },
  {
   "cell_type": "code",
   "execution_count": 19,
   "id": "5607436f",
   "metadata": {},
   "outputs": [
    {
     "data": {
      "text/plain": [
       "303"
      ]
     },
     "execution_count": 19,
     "metadata": {},
     "output_type": "execute_result"
    }
   ],
   "source": [
    "len(files_list)"
   ]
  },
  {
   "cell_type": "code",
   "execution_count": 18,
   "id": "f6dec8fa",
   "metadata": {},
   "outputs": [],
   "source": [
    "import re\n",
    "\n",
    "path = \"photos/video_capture/\"\n",
    "\n",
    "for file in files_list:\n",
    "    new_name = re.sub(\".mp4\", \"\", file)\n",
    "    os.rename(os.path.join(path, file), os.path.join(path, f\"{new_name}\"))"
   ]
  }
 ],
 "metadata": {
  "kernelspec": {
   "display_name": "Python 3 (ipykernel)",
   "language": "python",
   "name": "python3"
  },
  "language_info": {
   "codemirror_mode": {
    "name": "ipython",
    "version": 3
   },
   "file_extension": ".py",
   "mimetype": "text/x-python",
   "name": "python",
   "nbconvert_exporter": "python",
   "pygments_lexer": "ipython3",
   "version": "3.10.10"
  }
 },
 "nbformat": 4,
 "nbformat_minor": 5
}
