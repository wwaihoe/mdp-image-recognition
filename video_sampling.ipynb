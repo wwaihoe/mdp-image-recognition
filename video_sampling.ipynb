{
 "cells": [
  {
   "cell_type": "code",
   "execution_count": null,
   "id": "c4148ea8-8621-46db-b6e1-6993f77811c1",
   "metadata": {},
   "outputs": [],
   "source": [
    "import cv2"
   ]
  },
  {
   "cell_type": "code",
   "execution_count": 12,
   "id": "bda3ea06-0d2b-41dc-82c2-6731c7d35274",
   "metadata": {},
   "outputs": [
    {
     "name": "stdout",
     "output_type": "stream",
     "text": [
      "['untitled.txt']\n"
     ]
    }
   ],
   "source": [
    "files_list = [f for f in os.listdir(\"videos\") if os.path.isfile(\"videos/untitled.txt\")]\n",
    "print(files_list)"
   ]
  },
  {
   "cell_type": "code",
   "execution_count": null,
   "id": "9c959274-5a43-464a-b2eb-a487abd1a4f8",
   "metadata": {},
   "outputs": [],
   "source": [
    "for file in files_list\n",
    "    cap= cv2.VideoCapture(f\"videos/{file}\")\n",
    "    i=0\n",
    "    filename_index = 10\n",
    "    while(cap.isOpened()):\n",
    "        ret, frame = cap.read()\n",
    "        if ret == False:\n",
    "            break\n",
    "        if i % 30 == 0: # save every 30th frame\n",
    "            cv2.imwrite(f\"photos/video_capture/{file}_{str(i)}.jpg\",frame)\n",
    "            filename_index += 1\n",
    "        i+=1\n",
    "    \n",
    "    cap.release()\n",
    "cv2.destroyAllWindows()"
   ]
  },
  {
   "cell_type": "code",
   "execution_count": null,
   "id": "e57529a8-fcba-4b79-aca7-388edb25295b",
   "metadata": {},
   "outputs": [],
   "source": []
  }
 ],
 "metadata": {
  "kernelspec": {
   "display_name": "Python 3 (ipykernel)",
   "language": "python",
   "name": "python3"
  },
  "language_info": {
   "codemirror_mode": {
    "name": "ipython",
    "version": 3
   },
   "file_extension": ".py",
   "mimetype": "text/x-python",
   "name": "python",
   "nbconvert_exporter": "python",
   "pygments_lexer": "ipython3",
   "version": "3.9.18"
  }
 },
 "nbformat": 4,
 "nbformat_minor": 5
}
